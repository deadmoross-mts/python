{
 "cells": [
  {
   "cell_type": "markdown",
   "metadata": {},
   "source": [
    "# Базовая часть"
   ]
  },
  {
   "cell_type": "markdown",
   "metadata": {},
   "source": [
    "Рассмотрим задание 2 из лекции. При анализе отзывов на работу техподдержки вы считали массив из отзывов (для простоты отзыва приведено всего два, но могло быть и больше):"
   ]
  },
  {
   "cell_type": "code",
   "execution_count": 55,
   "metadata": {
    "collapsed": true
   },
   "outputs": [],
   "source": [
    "reviews = [\"\"\"Телефон абонента: +7 916 000 00 01\n",
    "Время: 10:34\n",
    "Дата: 20.05.2017\n",
    "Оценка: 1\n",
    "Длительность разговора (мин.): 0:32\n",
    "Комментарий: Общение с сотрудником вашей техподдержки мне не понравилось. Раньше всегда отвечала девушка с приятным голосом, а сегодня какой-то мужчина. Совсем никуда не годится, примите меры!!!\"\"\",\n",
    "\"\"\"Телефон абонента: +7 916 000 00 02\n",
    "Время: 9:20\n",
    "Дата: 21.05.2017\n",
    "Оценка: 5\n",
    "Длительность разговора (мин.): 25:07\n",
    "Комментарий: С моей проблемой мне помогли, большое спасибо!\"\"\"]"
   ]
  },
  {
   "cell_type": "code",
   "execution_count": 81,
   "metadata": {
    "collapsed": false
   },
   "outputs": [],
   "source": [
    "my_base=dict()\n",
    "#we didn't learn exceptions yet, so\n",
    "#we are the optimists, no exceptions\n",
    "for review in reviews:\n",
    "    splitreview=review.splitlines()\n",
    "    phone_number=(splitreview[0]).split(\": \")[1]\n",
    "    my_base[phone_number]=dict()\n",
    "    for line in splitreview:\n",
    "        my_base[phone_number][line.split(\": \")[0]]=line.split(\": \")[1]"
   ]
  },
  {
   "cell_type": "markdown",
   "metadata": {},
   "source": [
    "Сформируйте на основе этого массива словарь my_base, в котором по ключу в виде строки с телефоном абонента будет храниться другой словарь. Внутренний словарь по ключам в виде названий полей отзыва должен хранить значение полей (в виде строк). Например, код ниже должен выдать True:"
   ]
  },
  {
   "cell_type": "code",
   "execution_count": 82,
   "metadata": {
    "collapsed": false
   },
   "outputs": [
    {
     "data": {
      "text/plain": [
       "True"
      ]
     },
     "execution_count": 82,
     "metadata": {},
     "output_type": "execute_result"
    }
   ],
   "source": [
    "my_base['+7 916 000 00 01']['Дата'] == '20.05.2017'"
   ]
  },
  {
   "cell_type": "markdown",
   "metadata": {},
   "source": [
    "Обратите внимание, что вам могут немного мешать пробелы после знаков \":\""
   ]
  },
  {
   "cell_type": "markdown",
   "metadata": {},
   "source": [
    "# Продвинутая часть"
   ]
  },
  {
   "cell_type": "markdown",
   "metadata": {},
   "source": [
    "Попробуйте выполнить предыдущее задание, но теперь обеспечив хранение полей из отзыва в словаре в тех типах данных, которые на ваш взгляд наиболее уместны. Подумайте, что делать с датой и временем. Возможно вам покажется полезным немного воспользоваться поисковиком или документацией к Python, а может быть вам хватит стандартных типов данных.\n",
    "Объясните свой выбор в комментариях к коду или markdown ячейках и продемонстрируйте, что поля имеют нужный тип."
   ]
  },
  {
   "cell_type": "code",
   "execution_count": 119,
   "metadata": {
    "collapsed": false
   },
   "outputs": [
    {
     "name": "stdout",
     "output_type": "stream",
     "text": [
      "Телефон абонента <type 'str'>\n",
      "+7 916 000 00 01\n",
      "Время <type 'datetime.time'>\n",
      "10:34:00\n",
      "Дата <type 'datetime.date'>\n",
      "2017-05-20\n",
      "Оценка <type 'int'>\n",
      "1\n",
      "Длительность разговора (мин.) <type 'datetime.time'>\n",
      "00:00:32\n",
      "Комментарий <type 'str'>\n",
      "Общение с сотрудником вашей техподдержки мне не понравилось. Раньше всегда отвечала девушка с приятным голосом, а сегодня какой-то мужчина. Совсем никуда не годится, примите меры!!!\n",
      "Телефон абонента <type 'str'>\n",
      "+7 916 000 00 02\n",
      "Время <type 'datetime.time'>\n",
      "09:20:00\n",
      "Дата <type 'datetime.date'>\n",
      "2017-05-21\n",
      "Оценка <type 'int'>\n",
      "5\n",
      "Длительность разговора (мин.) <type 'datetime.time'>\n",
      "00:25:07\n",
      "Комментарий <type 'str'>\n",
      "С моей проблемой мне помогли, большое спасибо!\n"
     ]
    }
   ],
   "source": [
    "import datetime\n",
    "my_base=dict()\n",
    "#we didn't learn exceptions yet, but\n",
    "#now we need to cath one\n",
    "for review in reviews:\n",
    "    splitreview=review.splitlines()\n",
    "    phone_number=(splitreview[0]).split(\": \")[1]\n",
    "    my_base[phone_number]=dict()\n",
    "    for line in splitreview:\n",
    "        key=line.split(\": \")[0]\n",
    "        value=line.split(\": \")[1]\n",
    "        if line==splitreview[1]: #mod time\n",
    "            value=datetime.time(\n",
    "                int(value.split(\":\")[0]),\n",
    "                int(value.split(\":\")[1])\n",
    "            )\n",
    "        if line==splitreview[2]: #mod date\n",
    "            value=datetime.date(\n",
    "                int(value.split(\".\")[2]),\n",
    "                int(value.split(\".\")[1]),\n",
    "                int(value.split(\".\")[0])\n",
    "            )\n",
    "        if line==splitreview[3]: #stars\n",
    "            value=int(value)\n",
    "        if line==splitreview[4]: #mod call_duration\n",
    "            try: #catching the exception\n",
    "                value=datetime.time(\n",
    "                    int(value.split(\":\")[-3]),\n",
    "                    int(value.split(\":\")[-2]),\n",
    "                    int(value.split(\":\")[-1])\n",
    "                )\n",
    "            except:\n",
    "                value=datetime.time(\n",
    "                    0,\n",
    "                    int(value.split(\":\")[-2]),\n",
    "                    int(value.split(\":\")[-1])\n",
    "                )\n",
    "        print key,\n",
    "        print type(value)\n",
    "        print value\n",
    "        my_base[phone_number][key]=value"
   ]
  },
  {
   "cell_type": "markdown",
   "metadata": {},
   "source": [
    "# Сложная часть"
   ]
  },
  {
   "cell_type": "markdown",
   "metadata": {},
   "source": [
    "На лекции было рассказано про неизменяемые типы, в частности про tuple. Подумайте, можно ли \"сломать\" неизменяемость tuple? Как сделать tuple изменяемым? Можно ли будет его добавить в множество или использовать в качестве ключа в словаре?"
   ]
  },
  {
   "cell_type": "raw",
   "metadata": {
    "collapsed": true
   },
   "source": [
    "Q:можно ли \"сломать\" неизменяемость tuple? Как сделать tuple изменяемым?\n",
    "A:сделать новый tuple из кусков других tuple's наверно?"
   ]
  },
  {
   "cell_type": "code",
   "execution_count": 142,
   "metadata": {
    "collapsed": false
   },
   "outputs": [
    {
     "name": "stdout",
     "output_type": "stream",
     "text": [
      "(1, 2, 3, 4, 5, 6)\n"
     ]
    }
   ],
   "source": [
    "tup1 = (1, 2, 3);\n",
    "tup2 = (4, 5, 6);\n",
    "tup3 = tup1 + tup2;\n",
    "print tup3\n"
   ]
  },
  {
   "cell_type": "raw",
   "metadata": {},
   "source": [
    "Q:Можно ли будет его добавить в множество или использовать в качестве ключа в словаре?\n",
    "A:хмм.. namedtuple? взято со stackoverflow"
   ]
  },
  {
   "cell_type": "code",
   "execution_count": 174,
   "metadata": {
    "collapsed": false
   },
   "outputs": [
    {
     "name": "stdout",
     "output_type": "stream",
     "text": [
      "banana\n",
      "yellow\n",
      "3\n"
     ]
    }
   ],
   "source": [
    "from collections import namedtuple\n",
    "\n",
    "F = namedtuple(\"F\", [\"name\", \"color\"])\n",
    "\n",
    "fruitcounts={\n",
    "    F('apple', 'red'):1,\n",
    "    F('apple', 'green'):2,\n",
    "    F('banana', 'yellow'):3,\n",
    "    F('banana', 'green'):4,\n",
    "    F('blueberry', 'blue'):5,\n",
    "    F('blueberry', 'green'):6\n",
    "}\n",
    "\n",
    "f=F(name='banana', color='yellow')\n",
    "print f.name\n",
    "print f.color\n",
    "print fruitcounts[f]"
   ]
  }
 ],
 "metadata": {
  "anaconda-cloud": {},
  "kernelspec": {
   "display_name": "Python 2",
   "language": "python",
   "name": "python2"
  },
  "language_info": {
   "codemirror_mode": {
    "name": "ipython",
    "version": 2
   },
   "file_extension": ".py",
   "mimetype": "text/x-python",
   "name": "python",
   "nbconvert_exporter": "python",
   "pygments_lexer": "ipython2",
   "version": "2.7.13"
  }
 },
 "nbformat": 4,
 "nbformat_minor": 1
}
